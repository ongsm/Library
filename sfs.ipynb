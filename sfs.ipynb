{
 "metadata": {
  "language_info": {
   "codemirror_mode": {
    "name": "ipython",
    "version": 3
   },
   "file_extension": ".py",
   "mimetype": "text/x-python",
   "name": "python",
   "nbconvert_exporter": "python",
   "pygments_lexer": "ipython3",
   "version": "3.7.3-final"
  },
  "orig_nbformat": 2,
  "kernelspec": {
   "name": "Python 3.7.3 64-bit ('base')",
   "display_name": "Python 3.7.3 64-bit ('base')",
   "metadata": {
    "interpreter": {
     "hash": "e3aa3fd14100800197a98d1775f6bbcc4eb7c01612d587bb80da294ed202022c"
    }
   }
  }
 },
 "nbformat": 4,
 "nbformat_minor": 2,
 "cells": [
  {
   "cell_type": "markdown",
   "metadata": {},
   "source": [
    "Sequential Feature Selector http://rasbt.github.io/mlxtend/user_guide/feature_selection/SequentialFeatureSelector/"
   ]
  },
  {
   "cell_type": "code",
   "execution_count": 1,
   "metadata": {},
   "outputs": [],
   "source": [
    "from mlxtend.feature_selection import SequentialFeatureSelector as SFS\n",
    "from sklearn.neighbors import KNeighborsClassifier\n",
    "from sklearn.datasets import load_iris\n",
    "\n"
   ]
  },
  {
   "cell_type": "markdown",
   "metadata": {},
   "source": [
    "# Example 1 - A simple Sequential Forward Selection example"
   ]
  },
  {
   "cell_type": "code",
   "execution_count": 7,
   "metadata": {},
   "outputs": [
    {
     "output_type": "execute_result",
     "data": {
      "text/plain": "{&#39;data&#39;: array([[5.1, 3.5, 1.4, 0.2],\n        [4.9, 3. , 1.4, 0.2],\n        [4.7, 3.2, 1.3, 0.2],\n        [4.6, 3.1, 1.5, 0.2],\n        [5. , 3.6, 1.4, 0.2],\n        [5.4, 3.9, 1.7, 0.4],\n        [4.6, 3.4, 1.4, 0.3],\n        [5. , 3.4, 1.5, 0.2],\n        [4.4, 2.9, 1.4, 0.2],\n        [4.9, 3.1, 1.5, 0.1],\n        [5.4, 3.7, 1.5, 0.2],\n        [4.8, 3.4, 1.6, 0.2],\n        [4.8, 3. , 1.4, 0.1],\n        [4.3, 3. , 1.1, 0.1],\n        [5.8, 4. , 1.2, 0.2],\n        [5.7, 4.4, 1.5, 0.4],\n        [5.4, 3.9, 1.3, 0.4],\n        [5.1, 3.5, 1.4, 0.3],\n        [5.7, 3.8, 1.7, 0.3],\n        [5.1, 3.8, 1.5, 0.3],\n        [5.4, 3.4, 1.7, 0.2],\n        [5.1, 3.7, 1.5, 0.4],\n        [4.6, 3.6, 1. , 0.2],\n        [5.1, 3.3, 1.7, 0.5],\n        [4.8, 3.4, 1.9, 0.2],\n        [5. , 3. , 1.6, 0.2],\n        [5. , 3.4, 1.6, 0.4],\n        [5.2, 3.5, 1.5, 0.2],\n        [5.2, 3.4, 1.4, 0.2],\n        [4.7, 3.2, 1.6, 0.2],\n        [4.8, 3.1, 1.6, 0.2],\n        [5.4, 3.4, 1.5, 0.4],\n        [5.2, 4.1, 1.5, 0.1],\n        [5.5, 4.2, 1.4, 0.2],\n        [4.9, 3.1, 1.5, 0.2],\n        [5. , 3.2, 1.2, 0.2],\n        [5.5, 3.5, 1.3, 0.2],\n        [4.9, 3.6, 1.4, 0.1],\n        [4.4, 3. , 1.3, 0.2],\n        [5.1, 3.4, 1.5, 0.2],\n        [5. , 3.5, 1.3, 0.3],\n        [4.5, 2.3, 1.3, 0.3],\n        [4.4, 3.2, 1.3, 0.2],\n        [5. , 3.5, 1.6, 0.6],\n        [5.1, 3.8, 1.9, 0.4],\n        [4.8, 3. , 1.4, 0.3],\n        [5.1, 3.8, 1.6, 0.2],\n        [4.6, 3.2, 1.4, 0.2],\n        [5.3, 3.7, 1.5, 0.2],\n        [5. , 3.3, 1.4, 0.2],\n        [7. , 3.2, 4.7, 1.4],\n        [6.4, 3.2, 4.5, 1.5],\n        [6.9, 3.1, 4.9, 1.5],\n        [5.5, 2.3, 4. , 1.3],\n        [6.5, 2.8, 4.6, 1.5],\n        [5.7, 2.8, 4.5, 1.3],\n        [6.3, 3.3, 4.7, 1.6],\n        [4.9, 2.4, 3.3, 1. ],\n        [6.6, 2.9, 4.6, 1.3],\n        [5.2, 2.7, 3.9, 1.4],\n        [5. , 2. , 3.5, 1. ],\n        [5.9, 3. , 4.2, 1.5],\n        [6. , 2.2, 4. , 1. ],\n        [6.1, 2.9, 4.7, 1.4],\n        [5.6, 2.9, 3.6, 1.3],\n        [6.7, 3.1, 4.4, 1.4],\n        [5.6, 3. , 4.5, 1.5],\n        [5.8, 2.7, 4.1, 1. ],\n        [6.2, 2.2, 4.5, 1.5],\n        [5.6, 2.5, 3.9, 1.1],\n        [5.9, 3.2, 4.8, 1.8],\n        [6.1, 2.8, 4. , 1.3],\n        [6.3, 2.5, 4.9, 1.5],\n        [6.1, 2.8, 4.7, 1.2],\n        [6.4, 2.9, 4.3, 1.3],\n        [6.6, 3. , 4.4, 1.4],\n        [6.8, 2.8, 4.8, 1.4],\n        [6.7, 3. , 5. , 1.7],\n        [6. , 2.9, 4.5, 1.5],\n        [5.7, 2.6, 3.5, 1. ],\n        [5.5, 2.4, 3.8, 1.1],\n        [5.5, 2.4, 3.7, 1. ],\n        [5.8, 2.7, 3.9, 1.2],\n        [6. , 2.7, 5.1, 1.6],\n        [5.4, 3. , 4.5, 1.5],\n        [6. , 3.4, 4.5, 1.6],\n        [6.7, 3.1, 4.7, 1.5],\n        [6.3, 2.3, 4.4, 1.3],\n        [5.6, 3. , 4.1, 1.3],\n        [5.5, 2.5, 4. , 1.3],\n        [5.5, 2.6, 4.4, 1.2],\n        [6.1, 3. , 4.6, 1.4],\n        [5.8, 2.6, 4. , 1.2],\n        [5. , 2.3, 3.3, 1. ],\n        [5.6, 2.7, 4.2, 1.3],\n        [5.7, 3. , 4.2, 1.2],\n        [5.7, 2.9, 4.2, 1.3],\n        [6.2, 2.9, 4.3, 1.3],\n        [5.1, 2.5, 3. , 1.1],\n        [5.7, 2.8, 4.1, 1.3],\n        [6.3, 3.3, 6. , 2.5],\n        [5.8, 2.7, 5.1, 1.9],\n        [7.1, 3. , 5.9, 2.1],\n        [6.3, 2.9, 5.6, 1.8],\n        [6.5, 3. , 5.8, 2.2],\n        [7.6, 3. , 6.6, 2.1],\n        [4.9, 2.5, 4.5, 1.7],\n        [7.3, 2.9, 6.3, 1.8],\n        [6.7, 2.5, 5.8, 1.8],\n        [7.2, 3.6, 6.1, 2.5],\n        [6.5, 3.2, 5.1, 2. ],\n        [6.4, 2.7, 5.3, 1.9],\n        [6.8, 3. , 5.5, 2.1],\n        [5.7, 2.5, 5. , 2. ],\n        [5.8, 2.8, 5.1, 2.4],\n        [6.4, 3.2, 5.3, 2.3],\n        [6.5, 3. , 5.5, 1.8],\n        [7.7, 3.8, 6.7, 2.2],\n        [7.7, 2.6, 6.9, 2.3],\n        [6. , 2.2, 5. , 1.5],\n        [6.9, 3.2, 5.7, 2.3],\n        [5.6, 2.8, 4.9, 2. ],\n        [7.7, 2.8, 6.7, 2. ],\n        [6.3, 2.7, 4.9, 1.8],\n        [6.7, 3.3, 5.7, 2.1],\n        [7.2, 3.2, 6. , 1.8],\n        [6.2, 2.8, 4.8, 1.8],\n        [6.1, 3. , 4.9, 1.8],\n        [6.4, 2.8, 5.6, 2.1],\n        [7.2, 3. , 5.8, 1.6],\n        [7.4, 2.8, 6.1, 1.9],\n        [7.9, 3.8, 6.4, 2. ],\n        [6.4, 2.8, 5.6, 2.2],\n        [6.3, 2.8, 5.1, 1.5],\n        [6.1, 2.6, 5.6, 1.4],\n        [7.7, 3. , 6.1, 2.3],\n        [6.3, 3.4, 5.6, 2.4],\n        [6.4, 3.1, 5.5, 1.8],\n        [6. , 3. , 4.8, 1.8],\n        [6.9, 3.1, 5.4, 2.1],\n        [6.7, 3.1, 5.6, 2.4],\n        [6.9, 3.1, 5.1, 2.3],\n        [5.8, 2.7, 5.1, 1.9],\n        [6.8, 3.2, 5.9, 2.3],\n        [6.7, 3.3, 5.7, 2.5],\n        [6.7, 3. , 5.2, 2.3],\n        [6.3, 2.5, 5. , 1.9],\n        [6.5, 3. , 5.2, 2. ],\n        [6.2, 3.4, 5.4, 2.3],\n        [5.9, 3. , 5.1, 1.8]]),\n &#39;target&#39;: array([0, 0, 0, 0, 0, 0, 0, 0, 0, 0, 0, 0, 0, 0, 0, 0, 0, 0, 0, 0, 0, 0,\n        0, 0, 0, 0, 0, 0, 0, 0, 0, 0, 0, 0, 0, 0, 0, 0, 0, 0, 0, 0, 0, 0,\n        0, 0, 0, 0, 0, 0, 1, 1, 1, 1, 1, 1, 1, 1, 1, 1, 1, 1, 1, 1, 1, 1,\n        1, 1, 1, 1, 1, 1, 1, 1, 1, 1, 1, 1, 1, 1, 1, 1, 1, 1, 1, 1, 1, 1,\n        1, 1, 1, 1, 1, 1, 1, 1, 1, 1, 1, 1, 2, 2, 2, 2, 2, 2, 2, 2, 2, 2,\n        2, 2, 2, 2, 2, 2, 2, 2, 2, 2, 2, 2, 2, 2, 2, 2, 2, 2, 2, 2, 2, 2,\n        2, 2, 2, 2, 2, 2, 2, 2, 2, 2, 2, 2, 2, 2, 2, 2, 2, 2]),\n &#39;frame&#39;: None,\n &#39;target_names&#39;: array([&#39;setosa&#39;, &#39;versicolor&#39;, &#39;virginica&#39;], dtype=&#39;&lt;U10&#39;),\n &#39;DESCR&#39;: &#39;.. _iris_dataset:\\n\\nIris plants dataset\\n--------------------\\n\\n**Data Set Characteristics:**\\n\\n    :Number of Instances: 150 (50 in each of three classes)\\n    :Number of Attributes: 4 numeric, predictive attributes and the class\\n    :Attribute Information:\\n        - sepal length in cm\\n        - sepal width in cm\\n        - petal length in cm\\n        - petal width in cm\\n        - class:\\n                - Iris-Setosa\\n                - Iris-Versicolour\\n                - Iris-Virginica\\n                \\n    :Summary Statistics:\\n\\n    ============== ==== ==== ======= ===== ====================\\n                    Min  Max   Mean    SD   Class Correlation\\n    ============== ==== ==== ======= ===== ====================\\n    sepal length:   4.3  7.9   5.84   0.83    0.7826\\n    sepal width:    2.0  4.4   3.05   0.43   -0.4194\\n    petal length:   1.0  6.9   3.76   1.76    0.9490  (high!)\\n    petal width:    0.1  2.5   1.20   0.76    0.9565  (high!)\\n    ============== ==== ==== ======= ===== ====================\\n\\n    :Missing Attribute Values: None\\n    :Class Distribution: 33.3% for each of 3 classes.\\n    :Creator: R.A. Fisher\\n    :Donor: Michael Marshall (MARSHALL%PLU@io.arc.nasa.gov)\\n    :Date: July, 1988\\n\\nThe famous Iris database, first used by Sir R.A. Fisher. The dataset is taken\\nfrom Fisher\\&#39;s paper. Note that it\\&#39;s the same as in R, but not as in the UCI\\nMachine Learning Repository, which has two wrong data points.\\n\\nThis is perhaps the best known database to be found in the\\npattern recognition literature.  Fisher\\&#39;s paper is a classic in the field and\\nis referenced frequently to this day.  (See Duda &amp; Hart, for example.)  The\\ndata set contains 3 classes of 50 instances each, where each class refers to a\\ntype of iris plant.  One class is linearly separable from the other 2; the\\nlatter are NOT linearly separable from each other.\\n\\n.. topic:: References\\n\\n   - Fisher, R.A. &quot;The use of multiple measurements in taxonomic problems&quot;\\n     Annual Eugenics, 7, Part II, 179-188 (1936); also in &quot;Contributions to\\n     Mathematical Statistics&quot; (John Wiley, NY, 1950).\\n   - Duda, R.O., &amp; Hart, P.E. (1973) Pattern Classification and Scene Analysis.\\n     (Q327.D83) John Wiley &amp; Sons.  ISBN 0-471-22361-1.  See page 218.\\n   - Dasarathy, B.V. (1980) &quot;Nosing Around the Neighborhood: A New System\\n     Structure and Classification Rule for Recognition in Partially Exposed\\n     Environments&quot;.  IEEE Transactions on Pattern Analysis and Machine\\n     Intelligence, Vol. PAMI-2, No. 1, 67-71.\\n   - Gates, G.W. (1972) &quot;The Reduced Nearest Neighbor Rule&quot;.  IEEE Transactions\\n     on Information Theory, May 1972, 431-433.\\n   - See also: 1988 MLC Proceedings, 54-64.  Cheeseman et al&quot;s AUTOCLASS II\\n     conceptual clustering system finds 3 classes in the data.\\n   - Many, many more ...&#39;,\n &#39;feature_names&#39;: [&#39;sepal length (cm)&#39;,\n  &#39;sepal width (cm)&#39;,\n  &#39;petal length (cm)&#39;,\n  &#39;petal width (cm)&#39;],\n &#39;filename&#39;: &#39;C:\\\\Users\\\\User 1\\\\Anaconda3\\\\lib\\\\site-packages\\\\sklearn\\\\datasets\\\\data\\\\iris.csv&#39;}"
     },
     "metadata": {},
     "execution_count": 7
    }
   ],
   "source": [
    "iris = load_iris()\n",
    "iris"
   ]
  },
  {
   "cell_type": "code",
   "execution_count": null,
   "metadata": {},
   "outputs": [],
   "source": [
    "X = iris.data\n",
    "y = iris.target"
   ]
  },
  {
   "cell_type": "code",
   "execution_count": 2,
   "metadata": {
    "tags": []
   },
   "outputs": [
    {
     "output_type": "stream",
     "name": "stderr",
     "text": "[Parallel(n_jobs=1)]: Using backend SequentialBackend with 1 concurrent workers.\n[Parallel(n_jobs=1)]: Done   1 out of   1 | elapsed:    1.6s remaining:    0.0s\n[Parallel(n_jobs=1)]: Done   4 out of   4 | elapsed:    1.6s finished\n\n[2020-10-01 10:02:56] Features: 1/3 -- score: 0.96[Parallel(n_jobs=1)]: Using backend SequentialBackend with 1 concurrent workers.\n[Parallel(n_jobs=1)]: Done   1 out of   1 | elapsed:    0.0s remaining:    0.0s\n[Parallel(n_jobs=1)]: Done   3 out of   3 | elapsed:    0.0s finished\n\n[2020-10-01 10:02:56] Features: 2/3 -- score: 0.9733333333333334[Parallel(n_jobs=1)]: Using backend SequentialBackend with 1 concurrent workers.\n[Parallel(n_jobs=1)]: Done   1 out of   1 | elapsed:    0.0s remaining:    0.0s\n[Parallel(n_jobs=1)]: Done   2 out of   2 | elapsed:    0.0s finished\n\n[2020-10-01 10:02:56] Features: 3/3 -- score: 0.9733333333333334"
    }
   ],
   "source": [
    "knn = KNeighborsClassifier(n_neighbors=4)\n",
    "sfs1 = SFS(knn, \n",
    "           k_features=3, \n",
    "           forward=True, \n",
    "           floating=False, \n",
    "           verbose=2,\n",
    "           scoring='accuracy',\n",
    "           cv=0)\n",
    "\n",
    "sfs1 = sfs1.fit(X, y)"
   ]
  },
  {
   "cell_type": "code",
   "execution_count": 11,
   "metadata": {
    "tags": []
   },
   "outputs": [
    {
     "output_type": "stream",
     "name": "stderr",
     "text": "[Parallel(n_jobs=1)]: Using backend SequentialBackend with 1 concurrent workers.\n[Parallel(n_jobs=1)]: Done   1 out of   1 | elapsed:    0.0s remaining:    0.0s\n[Parallel(n_jobs=1)]: Done   4 out of   4 | elapsed:    0.0s finished\n\n[2020-10-01 10:08:45] Features: 1/3 -- score: 0.96[Parallel(n_jobs=1)]: Using backend SequentialBackend with 1 concurrent workers.\n[Parallel(n_jobs=1)]: Done   1 out of   1 | elapsed:    0.0s remaining:    0.0s\n[Parallel(n_jobs=1)]: Done   3 out of   3 | elapsed:    0.1s finished\n\n[2020-10-01 10:08:45] Features: 2/3 -- score: 0.9733333333333334[Parallel(n_jobs=1)]: Using backend SequentialBackend with 1 concurrent workers.\n[Parallel(n_jobs=1)]: Done   1 out of   1 | elapsed:    0.0s remaining:    0.0s\n[Parallel(n_jobs=1)]: Done   2 out of   2 | elapsed:    0.0s finished\n\n[2020-10-01 10:08:45] Features: 3/3 -- score: 0.9733333333333334"
    },
    {
     "output_type": "execute_result",
     "data": {
      "text/plain": "{1: {&#39;feature_idx&#39;: (3,),\n  &#39;cv_scores&#39;: array([0.96]),\n  &#39;avg_score&#39;: 0.96,\n  &#39;feature_names&#39;: (&#39;petal width (cm)&#39;,)},\n 2: {&#39;feature_idx&#39;: (2, 3),\n  &#39;cv_scores&#39;: array([0.97333333]),\n  &#39;avg_score&#39;: 0.9733333333333334,\n  &#39;feature_names&#39;: (&#39;petal length (cm)&#39;, &#39;petal width (cm)&#39;)},\n 3: {&#39;feature_idx&#39;: (1, 2, 3),\n  &#39;cv_scores&#39;: array([0.97333333]),\n  &#39;avg_score&#39;: 0.9733333333333334,\n  &#39;feature_names&#39;: (&#39;sepal width (cm)&#39;,\n   &#39;petal length (cm)&#39;,\n   &#39;petal width (cm)&#39;)}}"
     },
     "metadata": {},
     "execution_count": 11
    }
   ],
   "source": [
    "# with feature names\n",
    "feature_names = iris.feature_names #('sepal length', 'sepal width', 'petal length', 'petal width')\n",
    "sfs1 = sfs1.fit(X, y, custom_feature_names=feature_names)\n",
    "sfs1.subsets_"
   ]
  },
  {
   "cell_type": "code",
   "execution_count": 3,
   "metadata": {},
   "outputs": [
    {
     "output_type": "execute_result",
     "data": {
      "text/plain": "{1: {&#39;feature_idx&#39;: (3,),\n  &#39;cv_scores&#39;: array([0.96]),\n  &#39;avg_score&#39;: 0.96,\n  &#39;feature_names&#39;: (&#39;3&#39;,)},\n 2: {&#39;feature_idx&#39;: (2, 3),\n  &#39;cv_scores&#39;: array([0.97333333]),\n  &#39;avg_score&#39;: 0.9733333333333334,\n  &#39;feature_names&#39;: (&#39;2&#39;, &#39;3&#39;)},\n 3: {&#39;feature_idx&#39;: (1, 2, 3),\n  &#39;cv_scores&#39;: array([0.97333333]),\n  &#39;avg_score&#39;: 0.9733333333333334,\n  &#39;feature_names&#39;: (&#39;1&#39;, &#39;2&#39;, &#39;3&#39;)}}"
     },
     "metadata": {},
     "execution_count": 3
    }
   ],
   "source": [
    "sfs1.subsets_"
   ]
  },
  {
   "cell_type": "code",
   "execution_count": 4,
   "metadata": {},
   "outputs": [
    {
     "output_type": "execute_result",
     "data": {
      "text/plain": "(1, 2, 3)"
     },
     "metadata": {},
     "execution_count": 4
    }
   ],
   "source": [
    "sfs1.k_feature_idx_"
   ]
  },
  {
   "cell_type": "code",
   "execution_count": 5,
   "metadata": {},
   "outputs": [
    {
     "output_type": "execute_result",
     "data": {
      "text/plain": "(&#39;1&#39;, &#39;2&#39;, &#39;3&#39;)"
     },
     "metadata": {},
     "execution_count": 5
    }
   ],
   "source": [
    "sfs1.k_feature_names_"
   ]
  },
  {
   "cell_type": "code",
   "execution_count": 6,
   "metadata": {},
   "outputs": [
    {
     "output_type": "execute_result",
     "data": {
      "text/plain": "0.9733333333333334"
     },
     "metadata": {},
     "execution_count": 6
    }
   ],
   "source": [
    "sfs1.k_score_"
   ]
  },
  {
   "cell_type": "code",
   "execution_count": 15,
   "metadata": {
    "tags": []
   },
   "outputs": [
    {
     "output_type": "stream",
     "name": "stderr",
     "text": "[Parallel(n_jobs=1)]: Using backend SequentialBackend with 1 concurrent workers.\n[Parallel(n_jobs=1)]: Done   1 out of   1 | elapsed:    0.7s remaining:    0.0s\n[Parallel(n_jobs=1)]: Done   4 out of   4 | elapsed:    4.4s finished\n\n[2020-10-01 10:17:09] Features: 1/3 -- score: 0.7333333333333333[Parallel(n_jobs=1)]: Using backend SequentialBackend with 1 concurrent workers.\n[Parallel(n_jobs=1)]: Done   1 out of   1 | elapsed:    1.1s remaining:    0.0s\n[Parallel(n_jobs=1)]: Done   3 out of   3 | elapsed:    3.8s finished\n\n[2020-10-01 10:17:13] Features: 2/3 -- score: 0.6666666666666666[Parallel(n_jobs=1)]: Using backend SequentialBackend with 1 concurrent workers.\n[Parallel(n_jobs=1)]: Done   1 out of   1 | elapsed:    1.1s remaining:    0.0s\n[Parallel(n_jobs=1)]: Done   2 out of   2 | elapsed:    2.3s finished\n\n[2020-10-01 10:17:15] Features: 3/3 -- score: 0.7333333333333333"
    },
    {
     "output_type": "execute_result",
     "data": {
      "text/plain": "{1: {&#39;feature_idx&#39;: (2,),\n  &#39;cv_scores&#39;: array([0.73333333]),\n  &#39;avg_score&#39;: 0.7333333333333333,\n  &#39;feature_names&#39;: (&#39;petal length (cm)&#39;,)},\n 2: {&#39;feature_idx&#39;: (0, 2),\n  &#39;cv_scores&#39;: array([0.66666667]),\n  &#39;avg_score&#39;: 0.6666666666666666,\n  &#39;feature_names&#39;: (&#39;sepal length (cm)&#39;, &#39;petal length (cm)&#39;)},\n 3: {&#39;feature_idx&#39;: (0, 2, 3),\n  &#39;cv_scores&#39;: array([0.73333333]),\n  &#39;avg_score&#39;: 0.7333333333333333,\n  &#39;feature_names&#39;: (&#39;sepal length (cm)&#39;,\n   &#39;petal length (cm)&#39;,\n   &#39;petal width (cm)&#39;)}}"
     },
     "metadata": {},
     "execution_count": 15
    }
   ],
   "source": [
    "# Random forest: Forward\n",
    "from sklearn.ensemble import RandomForestClassifier\n",
    "sfs1 = SFS(RandomForestClassifier(min_samples_leaf=50,n_estimators=100),\n",
    "            k_features=3,\n",
    "            forward=True, \n",
    "           floating=False, \n",
    "           verbose=2,\n",
    "           scoring='accuracy',\n",
    "           cv=0)\n",
    "\n",
    "# sfs1 = sfs1.fit(X,y)\n",
    "feature_names = iris.feature_names\n",
    "sfs1 = sfs1.fit(X, y, custom_feature_names=feature_names)\n",
    "\n",
    "sfs1.subsets_"
   ]
  },
  {
   "cell_type": "code",
   "execution_count": 16,
   "metadata": {
    "tags": []
   },
   "outputs": [
    {
     "output_type": "stream",
     "name": "stderr",
     "text": "[Parallel(n_jobs=1)]: Using backend SequentialBackend with 1 concurrent workers.\n[Parallel(n_jobs=1)]: Done   1 out of   1 | elapsed:    1.0s remaining:    0.0s\n[Parallel(n_jobs=1)]: Done   4 out of   4 | elapsed:    4.4s finished\n\n[2020-10-01 10:17:23] Features: 3/3 -- score: 0.7066666666666667"
    },
    {
     "output_type": "execute_result",
     "data": {
      "text/plain": "{4: {&#39;feature_idx&#39;: (0, 1, 2, 3),\n  &#39;cv_scores&#39;: array([0.68666667]),\n  &#39;avg_score&#39;: 0.6866666666666666,\n  &#39;feature_names&#39;: (&#39;sepal length (cm)&#39;,\n   &#39;sepal width (cm)&#39;,\n   &#39;petal length (cm)&#39;,\n   &#39;petal width (cm)&#39;)},\n 3: {&#39;feature_idx&#39;: (0, 1, 2),\n  &#39;cv_scores&#39;: array([0.70666667]),\n  &#39;avg_score&#39;: 0.7066666666666667,\n  &#39;feature_names&#39;: (&#39;sepal length (cm)&#39;,\n   &#39;sepal width (cm)&#39;,\n   &#39;petal length (cm)&#39;)}}"
     },
     "metadata": {},
     "execution_count": 16
    }
   ],
   "source": [
    "# Random forest: Backward\n",
    "sfs1 = SFS(RandomForestClassifier(min_samples_leaf=50,n_estimators=100),\n",
    "            k_features=3,\n",
    "            forward=False, \n",
    "           floating=False, \n",
    "           verbose=2,\n",
    "           scoring='accuracy',\n",
    "           cv=0)\n",
    "\n",
    "# sfs1 = sfs1.fit(X,y)\n",
    "feature_names = iris.feature_names #('sepal length', 'sepal width', 'petal length', 'petal width')\n",
    "sfs1 = sfs1.fit(X, y, custom_feature_names=feature_names)\n",
    "\n",
    "sfs1.subsets_"
   ]
  },
  {
   "cell_type": "markdown",
   "metadata": {},
   "source": [
    "# Example 2 - Toggling between SFS, SBS, SFFS, and SBFS"
   ]
  },
  {
   "cell_type": "code",
   "execution_count": 20,
   "metadata": {
    "tags": []
   },
   "outputs": [
    {
     "output_type": "stream",
     "name": "stdout",
     "text": "\nSequential Forward Selection (k=3):\n(1, 2, 3)\nCV Score:\n0.9731507823613088\n\nSequential Backward Selection (k=3):\n(1, 2, 3)\nCV Score:\n0.9731507823613088\n\nSequential Forward Floating Selection (k=3):\n(1, 2, 3)\nCV Score:\n0.9731507823613088\n\nSequential Backward Floating Selection (k=3):\n(1, 2, 3)\nCV Score:\n0.9731507823613088\n"
    }
   ],
   "source": [
    "# Sequential Forward Selection\n",
    "sfs = SFS(knn, \n",
    "          k_features=3, \n",
    "          forward=True, \n",
    "          floating=False, \n",
    "          scoring='accuracy',\n",
    "          cv=4,\n",
    "          n_jobs=-1)\n",
    "sfs = sfs.fit(X, y)\n",
    "\n",
    "print('\\nSequential Forward Selection (k=3):')\n",
    "print(sfs.k_feature_idx_)\n",
    "print('CV Score:')\n",
    "print(sfs.k_score_)\n",
    "\n",
    "###################################################\n",
    "\n",
    "# Sequential Backward Selection\n",
    "sbs = SFS(knn, \n",
    "          k_features=3, \n",
    "          forward=False, \n",
    "          floating=False, \n",
    "          scoring='accuracy',\n",
    "          cv=4,\n",
    "          n_jobs=-1)\n",
    "sbs = sbs.fit(X, y)\n",
    "\n",
    "print('\\nSequential Backward Selection (k=3):')\n",
    "print(sbs.k_feature_idx_)\n",
    "print('CV Score:')\n",
    "print(sbs.k_score_)\n",
    "\n",
    "###################################################\n",
    "\n",
    "# Sequential Forward Floating Selection\n",
    "sffs = SFS(knn, \n",
    "           k_features=3, \n",
    "           forward=True, \n",
    "           floating=True, \n",
    "           scoring='accuracy',\n",
    "           cv=4,\n",
    "           n_jobs=-1)\n",
    "sffs = sffs.fit(X, y)\n",
    "\n",
    "print('\\nSequential Forward Floating Selection (k=3):')\n",
    "print(sffs.k_feature_idx_)\n",
    "print('CV Score:')\n",
    "print(sffs.k_score_)\n",
    "\n",
    "###################################################\n",
    "\n",
    "# Sequential Backward Floating Selection\n",
    "sbfs = SFS(knn, \n",
    "           k_features=3, \n",
    "           forward=False, \n",
    "           floating=True, \n",
    "           scoring='accuracy',\n",
    "           cv=4,\n",
    "           n_jobs=-1)\n",
    "sbfs = sbfs.fit(X, y)\n",
    "\n",
    "print('\\nSequential Backward Floating Selection (k=3):')\n",
    "print(sbfs.k_feature_idx_)\n",
    "print('CV Score:')\n",
    "print(sbfs.k_score_)"
   ]
  },
  {
   "cell_type": "markdown",
   "metadata": {},
   "source": [
    "# Example 3 - Visualizing the results in DataFrames"
   ]
  },
  {
   "cell_type": "code",
   "execution_count": 19,
   "metadata": {},
   "outputs": [
    {
     "output_type": "execute_result",
     "data": {
      "text/plain": "  avg_score   ci_bound                                          cv_scores  \\\n1      0.96  0.0320608  [0.9666666666666667, 0.9666666666666667, 0.933...   \n2  0.966667  0.0270963  [0.9666666666666667, 0.9666666666666667, 0.933...   \n3  0.953333  0.0209887  [0.9666666666666667, 0.9666666666666667, 0.933...   \n4  0.973333  0.0171372  [0.9666666666666667, 0.9666666666666667, 0.966...   \n\n    feature_idx feature_names    std_dev     std_err  \n1          (3,)          (3,)  0.0249444   0.0124722  \n2        (2, 3)        (2, 3)  0.0210819   0.0105409  \n3     (0, 2, 3)     (0, 2, 3)  0.0163299  0.00816497  \n4  (0, 1, 2, 3)  (0, 1, 2, 3)  0.0133333  0.00666667  ",
      "text/html": "<div>\n<style scoped>\n    .dataframe tbody tr th:only-of-type {\n        vertical-align: middle;\n    }\n\n    .dataframe tbody tr th {\n        vertical-align: top;\n    }\n\n    .dataframe thead th {\n        text-align: right;\n    }\n</style>\n<table border=\"1\" class=\"dataframe\">\n  <thead>\n    <tr style=\"text-align: right;\">\n      <th></th>\n      <th>avg_score</th>\n      <th>ci_bound</th>\n      <th>cv_scores</th>\n      <th>feature_idx</th>\n      <th>feature_names</th>\n      <th>std_dev</th>\n      <th>std_err</th>\n    </tr>\n  </thead>\n  <tbody>\n    <tr>\n      <th>1</th>\n      <td>0.96</td>\n      <td>0.0320608</td>\n      <td>[0.9666666666666667, 0.9666666666666667, 0.933...</td>\n      <td>(3,)</td>\n      <td>(3,)</td>\n      <td>0.0249444</td>\n      <td>0.0124722</td>\n    </tr>\n    <tr>\n      <th>2</th>\n      <td>0.966667</td>\n      <td>0.0270963</td>\n      <td>[0.9666666666666667, 0.9666666666666667, 0.933...</td>\n      <td>(2, 3)</td>\n      <td>(2, 3)</td>\n      <td>0.0210819</td>\n      <td>0.0105409</td>\n    </tr>\n    <tr>\n      <th>3</th>\n      <td>0.953333</td>\n      <td>0.0209887</td>\n      <td>[0.9666666666666667, 0.9666666666666667, 0.933...</td>\n      <td>(0, 2, 3)</td>\n      <td>(0, 2, 3)</td>\n      <td>0.0163299</td>\n      <td>0.00816497</td>\n    </tr>\n    <tr>\n      <th>4</th>\n      <td>0.973333</td>\n      <td>0.0171372</td>\n      <td>[0.9666666666666667, 0.9666666666666667, 0.966...</td>\n      <td>(0, 1, 2, 3)</td>\n      <td>(0, 1, 2, 3)</td>\n      <td>0.0133333</td>\n      <td>0.00666667</td>\n    </tr>\n  </tbody>\n</table>\n</div>"
     },
     "metadata": {},
     "execution_count": 19
    }
   ],
   "source": [
    "# Sequential Forward Selector\n",
    "import pandas as pd\n",
    "pd.DataFrame.from_dict(sfs.get_metric_dict()).T"
   ]
  },
  {
   "cell_type": "code",
   "execution_count": 21,
   "metadata": {},
   "outputs": [
    {
     "output_type": "execute_result",
     "data": {
      "text/plain": "  avg_score   ci_bound                                          cv_scores  \\\n4  0.953236  0.0360205  [0.9736842105263158, 0.9473684210526315, 0.918...   \n3  0.973151  0.0306385  [0.9736842105263158, 1.0, 0.9459459459459459, ...   \n\n    feature_idx feature_names    std_dev    std_err  \n4  (0, 1, 2, 3)  (0, 1, 2, 3)  0.0224709  0.0129736  \n3     (1, 2, 3)     (1, 2, 3)  0.0191135  0.0110352  ",
      "text/html": "<div>\n<style scoped>\n    .dataframe tbody tr th:only-of-type {\n        vertical-align: middle;\n    }\n\n    .dataframe tbody tr th {\n        vertical-align: top;\n    }\n\n    .dataframe thead th {\n        text-align: right;\n    }\n</style>\n<table border=\"1\" class=\"dataframe\">\n  <thead>\n    <tr style=\"text-align: right;\">\n      <th></th>\n      <th>avg_score</th>\n      <th>ci_bound</th>\n      <th>cv_scores</th>\n      <th>feature_idx</th>\n      <th>feature_names</th>\n      <th>std_dev</th>\n      <th>std_err</th>\n    </tr>\n  </thead>\n  <tbody>\n    <tr>\n      <th>4</th>\n      <td>0.953236</td>\n      <td>0.0360205</td>\n      <td>[0.9736842105263158, 0.9473684210526315, 0.918...</td>\n      <td>(0, 1, 2, 3)</td>\n      <td>(0, 1, 2, 3)</td>\n      <td>0.0224709</td>\n      <td>0.0129736</td>\n    </tr>\n    <tr>\n      <th>3</th>\n      <td>0.973151</td>\n      <td>0.0306385</td>\n      <td>[0.9736842105263158, 1.0, 0.9459459459459459, ...</td>\n      <td>(1, 2, 3)</td>\n      <td>(1, 2, 3)</td>\n      <td>0.0191135</td>\n      <td>0.0110352</td>\n    </tr>\n  </tbody>\n</table>\n</div>"
     },
     "metadata": {},
     "execution_count": 21
    }
   ],
   "source": [
    "# Sequential Backward Selector\n",
    "pd.DataFrame.from_dict(sbs.get_metric_dict()).T"
   ]
  },
  {
   "cell_type": "code",
   "execution_count": 22,
   "metadata": {},
   "outputs": [
    {
     "output_type": "execute_result",
     "data": {
      "text/plain": "  avg_score   ci_bound                                          cv_scores  \\\n4  0.953236  0.0276577  [0.9736842105263158, 0.9473684210526315, 0.918...   \n3  0.973151  0.0235253  [0.9736842105263158, 1.0, 0.9459459459459459, ...   \n\n    feature_idx feature_names    std_dev    std_err  \n4  (0, 1, 2, 3)  (0, 1, 2, 3)  0.0224709  0.0129736  \n3     (1, 2, 3)     (1, 2, 3)  0.0191135  0.0110352  ",
      "text/html": "<div>\n<style scoped>\n    .dataframe tbody tr th:only-of-type {\n        vertical-align: middle;\n    }\n\n    .dataframe tbody tr th {\n        vertical-align: top;\n    }\n\n    .dataframe thead th {\n        text-align: right;\n    }\n</style>\n<table border=\"1\" class=\"dataframe\">\n  <thead>\n    <tr style=\"text-align: right;\">\n      <th></th>\n      <th>avg_score</th>\n      <th>ci_bound</th>\n      <th>cv_scores</th>\n      <th>feature_idx</th>\n      <th>feature_names</th>\n      <th>std_dev</th>\n      <th>std_err</th>\n    </tr>\n  </thead>\n  <tbody>\n    <tr>\n      <th>4</th>\n      <td>0.953236</td>\n      <td>0.0276577</td>\n      <td>[0.9736842105263158, 0.9473684210526315, 0.918...</td>\n      <td>(0, 1, 2, 3)</td>\n      <td>(0, 1, 2, 3)</td>\n      <td>0.0224709</td>\n      <td>0.0129736</td>\n    </tr>\n    <tr>\n      <th>3</th>\n      <td>0.973151</td>\n      <td>0.0235253</td>\n      <td>[0.9736842105263158, 1.0, 0.9459459459459459, ...</td>\n      <td>(1, 2, 3)</td>\n      <td>(1, 2, 3)</td>\n      <td>0.0191135</td>\n      <td>0.0110352</td>\n    </tr>\n  </tbody>\n</table>\n</div>"
     },
     "metadata": {},
     "execution_count": 22
    }
   ],
   "source": [
    "# Use different confidence interval (default:confidence interval of 95% is used)\n",
    "pd.DataFrame.from_dict(sbs.get_metric_dict(confidence_interval=0.90)).T"
   ]
  },
  {
   "cell_type": "markdown",
   "metadata": {},
   "source": [
    "# Example 4 - Plotting the results"
   ]
  },
  {
   "cell_type": "code",
   "execution_count": 23,
   "metadata": {
    "tags": []
   },
   "outputs": [
    {
     "output_type": "stream",
     "name": "stderr",
     "text": "[Parallel(n_jobs=1)]: Using backend SequentialBackend with 1 concurrent workers.\n[Parallel(n_jobs=1)]: Done   1 out of   1 | elapsed:    0.0s remaining:    0.0s\n[Parallel(n_jobs=1)]: Done   4 out of   4 | elapsed:    0.5s finished\n\n[2020-10-01 10:28:38] Features: 1/4 -- score: 0.96[Parallel(n_jobs=1)]: Using backend SequentialBackend with 1 concurrent workers.\n[Parallel(n_jobs=1)]: Done   1 out of   1 | elapsed:    0.0s remaining:    0.0s\n[Parallel(n_jobs=1)]: Done   3 out of   3 | elapsed:    0.2s finished\n\n[2020-10-01 10:28:38] Features: 2/4 -- score: 0.9666666666666668[Parallel(n_jobs=1)]: Using backend SequentialBackend with 1 concurrent workers.\n[Parallel(n_jobs=1)]: Done   1 out of   1 | elapsed:    0.0s remaining:    0.0s\n[Parallel(n_jobs=1)]: Done   2 out of   2 | elapsed:    0.1s finished\n\n[2020-10-01 10:28:39] Features: 3/4 -- score: 0.9533333333333334[Parallel(n_jobs=1)]: Using backend SequentialBackend with 1 concurrent workers.\n[Parallel(n_jobs=1)]: Done   1 out of   1 | elapsed:    0.0s remaining:    0.0s\n[Parallel(n_jobs=1)]: Done   1 out of   1 | elapsed:    0.0s finished\n\n[2020-10-01 10:28:39] Features: 4/4 -- score: 0.9733333333333334"
    },
    {
     "output_type": "display_data",
     "data": {
      "text/plain": "&lt;Figure size 432x288 with 1 Axes&gt;",
      "image/png": "[encoded data removed]"
     },
     "metadata": {
      "needs_background": "light"
     }
    }
   ],
   "source": [
    "from mlxtend.plotting import plot_sequential_feature_selection as plot_sfs\n",
    "import matplotlib.pyplot as plt\n",
    "\n",
    "sfs = SFS(knn, \n",
    "          k_features=4, \n",
    "          forward=True, \n",
    "          floating=False, \n",
    "          scoring='accuracy',\n",
    "          verbose=2,\n",
    "          cv=5)\n",
    "\n",
    "sfs = sfs.fit(X, y)\n",
    "\n",
    "fig1 = plot_sfs(sfs.get_metric_dict(), kind='std_dev')\n",
    "\n",
    "plt.ylim([0.8, 1])\n",
    "plt.title('Sequential Forward Selection (w. StdDev)')\n",
    "plt.grid()\n",
    "plt.show()"
   ]
  },
  {
   "cell_type": "markdown",
   "metadata": {},
   "source": [
    "# Example 5 - Sequential Feature Selection for Regression"
   ]
  },
  {
   "cell_type": "code",
   "execution_count": 24,
   "metadata": {},
   "outputs": [
    {
     "output_type": "display_data",
     "data": {
      "text/plain": "&lt;Figure size 432x288 with 1 Axes&gt;",
      "image/png": "[encoded data removed]"
     },
     "metadata": {
      "needs_background": "light"
     }
    }
   ],
   "source": [
    "from sklearn.linear_model import LinearRegression\n",
    "from sklearn.datasets import load_boston\n",
    "\n",
    "boston = load_boston()\n",
    "X, y = boston.data, boston.target\n",
    "\n",
    "lr = LinearRegression()\n",
    "\n",
    "sfs = SFS(lr, \n",
    "          k_features=13, \n",
    "          forward=True, \n",
    "          floating=False, \n",
    "          scoring='neg_mean_squared_error',\n",
    "          cv=10)\n",
    "\n",
    "sfs = sfs.fit(X, y)\n",
    "fig = plot_sfs(sfs.get_metric_dict(), kind='std_err')\n",
    "\n",
    "plt.title('Sequential Forward Selection (w. StdErr)')\n",
    "plt.grid()\n",
    "plt.show()"
   ]
  },
  {
   "cell_type": "markdown",
   "metadata": {},
   "source": [
    "# Example 6 -- Feature Selection with Fixed Train/Validation Splits"
   ]
  },
  {
   "cell_type": "code",
   "execution_count": 25,
   "metadata": {
    "tags": []
   },
   "outputs": [
    {
     "output_type": "stream",
     "name": "stdout",
     "text": "[ 72 112 132  88  37 138  87  42   8  90 141  33  59 116 135 104  36  13\n  63  45  28 133  24 127  46  20  31 121 117   4]\n"
    }
   ],
   "source": [
    "from sklearn.datasets import load_iris\n",
    "from mlxtend.evaluate import PredefinedHoldoutSplit\n",
    "import numpy as np\n",
    "\n",
    "\n",
    "iris = load_iris()\n",
    "X = iris.data\n",
    "y = iris.target\n",
    "\n",
    "rng = np.random.RandomState(123)\n",
    "my_validation_indices = rng.permutation(np.arange(150))[:30]\n",
    "print(my_validation_indices)"
   ]
  },
  {
   "cell_type": "code",
   "execution_count": 26,
   "metadata": {
    "tags": []
   },
   "outputs": [
    {
     "output_type": "stream",
     "name": "stderr",
     "text": "[Parallel(n_jobs=1)]: Using backend SequentialBackend with 1 concurrent workers.\n[Parallel(n_jobs=1)]: Done   1 out of   1 | elapsed:    0.0s remaining:    0.0s\n[Parallel(n_jobs=1)]: Done   4 out of   4 | elapsed:    0.0s finished\n\n[2020-10-01 11:02:28] Features: 1/3 -- score: 0.9666666666666667[Parallel(n_jobs=1)]: Using backend SequentialBackend with 1 concurrent workers.\n[Parallel(n_jobs=1)]: Done   1 out of   1 | elapsed:    0.0s remaining:    0.0s\n[Parallel(n_jobs=1)]: Done   3 out of   3 | elapsed:    0.0s finished\n\n[2020-10-01 11:02:28] Features: 2/3 -- score: 0.9666666666666667[Parallel(n_jobs=1)]: Using backend SequentialBackend with 1 concurrent workers.\n[Parallel(n_jobs=1)]: Done   1 out of   1 | elapsed:    0.0s remaining:    0.0s\n[Parallel(n_jobs=1)]: Done   2 out of   2 | elapsed:    0.0s finished\n\n[2020-10-01 11:02:28] Features: 3/3 -- score: 0.9666666666666667"
    }
   ],
   "source": [
    "from sklearn.neighbors import KNeighborsClassifier\n",
    "from mlxtend.feature_selection import SequentialFeatureSelector as SFS\n",
    "\n",
    "knn = KNeighborsClassifier(n_neighbors=4)\n",
    "piter = PredefinedHoldoutSplit(my_validation_indices)\n",
    "\n",
    "sfs1 = SFS(knn, \n",
    "           k_features=3, \n",
    "           forward=True, \n",
    "           floating=False, \n",
    "           verbose=2,\n",
    "           scoring='accuracy',\n",
    "           cv=piter)\n",
    "\n",
    "sfs1 = sfs1.fit(X, y)"
   ]
  },
  {
   "cell_type": "markdown",
   "metadata": {},
   "source": [
    "# Example 7 -- Using the Selected Feature Subset For Making New Predictions"
   ]
  },
  {
   "cell_type": "code",
   "execution_count": 27,
   "metadata": {},
   "outputs": [],
   "source": [
    "# Initialize the dataset\n",
    "\n",
    "from sklearn.neighbors import KNeighborsClassifier\n",
    "from sklearn.datasets import load_iris\n",
    "from sklearn.model_selection import train_test_split\n",
    "\n",
    "iris = load_iris()\n",
    "X, y = iris.data, iris.target\n",
    "X_train, X_test, y_train, y_test = train_test_split(\n",
    "         X, y, test_size=0.33, random_state=1)\n",
    "\n",
    "knn = KNeighborsClassifier(n_neighbors=4)"
   ]
  },
  {
   "cell_type": "code",
   "execution_count": 28,
   "metadata": {},
   "outputs": [],
   "source": [
    "# Select the \"best\" three features via\n",
    "# 5-fold cross-validation on the training set.\n",
    "\n",
    "from mlxtend.feature_selection import SequentialFeatureSelector as SFS\n",
    "\n",
    "sfs1 = SFS(knn, \n",
    "           k_features=3, \n",
    "           forward=True, \n",
    "           floating=False, \n",
    "           scoring='accuracy',\n",
    "           cv=5)\n",
    "sfs1 = sfs1.fit(X_train, y_train)"
   ]
  },
  {
   "cell_type": "code",
   "execution_count": 29,
   "metadata": {
    "tags": []
   },
   "outputs": [
    {
     "output_type": "stream",
     "name": "stdout",
     "text": "Selected features: (1, 2, 3)\n"
    }
   ],
   "source": [
    "print('Selected features:', sfs1.k_feature_idx_)"
   ]
  },
  {
   "cell_type": "code",
   "execution_count": 30,
   "metadata": {
    "tags": []
   },
   "outputs": [
    {
     "output_type": "stream",
     "name": "stdout",
     "text": "Test set accuracy: 96.00 %\n"
    }
   ],
   "source": [
    "# Generate the new subsets based on the selected features\n",
    "# Note that the transform call is equivalent to\n",
    "# X_train[:, sfs1.k_feature_idx_]\n",
    "\n",
    "X_train_sfs = sfs1.transform(X_train)\n",
    "X_test_sfs = sfs1.transform(X_test)\n",
    "\n",
    "# Fit the estimator using the new feature subset\n",
    "# and make a prediction on the test data\n",
    "knn.fit(X_train_sfs, y_train)\n",
    "y_pred = knn.predict(X_test_sfs)\n",
    "\n",
    "# Compute the accuracy of the prediction\n",
    "acc = float((y_test == y_pred).sum()) / y_pred.shape[0]\n",
    "print('Test set accuracy: %.2f %%' % (acc * 100))"
   ]
  },
  {
   "cell_type": "markdown",
   "metadata": {},
   "source": [
    "# Example 8 -- Sequential Feature Selection and GridSearch"
   ]
  },
  {
   "cell_type": "code",
   "execution_count": 31,
   "metadata": {},
   "outputs": [],
   "source": [
    "# Initialize the dataset\n",
    "\n",
    "from sklearn.neighbors import KNeighborsClassifier\n",
    "from sklearn.datasets import load_iris\n",
    "from sklearn.model_selection import train_test_split\n",
    "\n",
    "iris = load_iris()\n",
    "X, y = iris.data, iris.target\n",
    "X_train, X_test, y_train, y_test = train_test_split(\n",
    "         X, y, test_size=0.2, random_state=123)"
   ]
  },
  {
   "cell_type": "code",
   "execution_count": 32,
   "metadata": {},
   "outputs": [],
   "source": [
    "from sklearn.model_selection import GridSearchCV\n",
    "from sklearn.pipeline import Pipeline\n",
    "from mlxtend.feature_selection import SequentialFeatureSelector as SFS\n",
    "import mlxtend\n",
    "\n",
    "knn = KNeighborsClassifier(n_neighbors=2)\n",
    "\n",
    "sfs1 = SFS(estimator=knn, \n",
    "           k_features=3,\n",
    "           forward=True, \n",
    "           floating=False, \n",
    "           scoring='accuracy',\n",
    "           cv=5)\n",
    "\n",
    "pipe = Pipeline([('sfs', sfs1), \n",
    "                 ('knn', knn)])\n",
    "\n",
    "param_grid = [\n",
    "  {'sfs__k_features': [1, 4],\n",
    "   'sfs__estimator__n_neighbors': [1, 5, 10]}\n",
    "  ]\n",
    "\n",
    "gs = GridSearchCV(estimator=pipe, \n",
    "                  param_grid=param_grid, \n",
    "                  scoring='accuracy', \n",
    "                  n_jobs=1, \n",
    "                  cv=5,\n",
    "                  iid=True,\n",
    "                  refit=False)\n",
    "\n",
    "# run gridearch\n",
    "gs = gs.fit(X_train, y_train)"
   ]
  },
  {
   "cell_type": "code",
   "execution_count": 33,
   "metadata": {
    "tags": []
   },
   "outputs": [
    {
     "output_type": "stream",
     "name": "stdout",
     "text": "{&#39;sfs__estimator__n_neighbors&#39;: 1, &#39;sfs__k_features&#39;: 1} test acc.: 0.9166666666666666\n{&#39;sfs__estimator__n_neighbors&#39;: 1, &#39;sfs__k_features&#39;: 4} test acc.: 0.9416666666666667\n{&#39;sfs__estimator__n_neighbors&#39;: 5, &#39;sfs__k_features&#39;: 1} test acc.: 0.9166666666666666\n{&#39;sfs__estimator__n_neighbors&#39;: 5, &#39;sfs__k_features&#39;: 4} test acc.: 0.9416666666666667\n{&#39;sfs__estimator__n_neighbors&#39;: 10, &#39;sfs__k_features&#39;: 1} test acc.: 0.9166666666666666\n{&#39;sfs__estimator__n_neighbors&#39;: 10, &#39;sfs__k_features&#39;: 4} test acc.: 0.9416666666666667\n"
    }
   ],
   "source": [
    "for i in range(len(gs.cv_results_['params'])):\n",
    "    print(gs.cv_results_['params'][i], 'test acc.:', gs.cv_results_['mean_test_score'][i])"
   ]
  },
  {
   "cell_type": "code",
   "execution_count": 34,
   "metadata": {
    "tags": []
   },
   "outputs": [
    {
     "output_type": "stream",
     "name": "stdout",
     "text": "Best parameters via GridSearch {&#39;sfs__estimator__n_neighbors&#39;: 1, &#39;sfs__k_features&#39;: 4}\n"
    }
   ],
   "source": [
    "print(\"Best parameters via GridSearch\", gs.best_params_)"
   ]
  },
  {
   "cell_type": "markdown",
   "metadata": {},
   "source": [
    "## Obtaining the best k feature indices after GridSearch"
   ]
  },
  {
   "cell_type": "code",
   "execution_count": 35,
   "metadata": {},
   "outputs": [],
   "source": [
    "gs = GridSearchCV(estimator=pipe, \n",
    "                  param_grid=param_grid, \n",
    "                  scoring='accuracy', \n",
    "                  n_jobs=1, \n",
    "                  cv=5, \n",
    "                  iid=True,\n",
    "                  refit=True)\n",
    "gs = gs.fit(X_train, y_train)"
   ]
  },
  {
   "cell_type": "code",
   "execution_count": 36,
   "metadata": {},
   "outputs": [
    {
     "output_type": "execute_result",
     "data": {
      "text/plain": "[(&#39;sfs&#39;,\n  SequentialFeatureSelector(estimator=KNeighborsClassifier(n_neighbors=1),\n                            k_features=4, scoring=&#39;accuracy&#39;)),\n (&#39;knn&#39;, KNeighborsClassifier(n_neighbors=2))]"
     },
     "metadata": {},
     "execution_count": 36
    }
   ],
   "source": [
    "gs.best_estimator_.steps"
   ]
  },
  {
   "cell_type": "code",
   "execution_count": 38,
   "metadata": {
    "tags": []
   },
   "outputs": [
    {
     "output_type": "stream",
     "name": "stdout",
     "text": "Best features: (0, 1, 2, 3)\nBest score: 0.9416666666666667\n"
    },
    {
     "output_type": "execute_result",
     "data": {
      "text/plain": "{&#39;sfs__estimator__n_neighbors&#39;: 1, &#39;sfs__k_features&#39;: 4}"
     },
     "metadata": {},
     "execution_count": 38
    }
   ],
   "source": [
    "print('Best features:', gs.best_estimator_.steps[0][1].k_feature_idx_)\n",
    "print('Best score:', gs.best_score_)\n",
    "print('Best params:', gs.best_params_)\n",
    "gs.estimator.named_steps['sfs'].estimator.n_neighbors"
   ]
  },
  {
   "cell_type": "code",
   "execution_count": 39,
   "metadata": {
    "tags": []
   },
   "outputs": [
    {
     "output_type": "stream",
     "name": "stdout",
     "text": "Best features: (0, 1, 2, 3)\n"
    }
   ],
   "source": [
    "# Alternatively, if we can set the \"best grid search parameters\" in our pipeline manually if we ran GridSearchCV with refit=False. It should yield the same results:\n",
    "\n",
    "pipe.set_params(**gs.best_params_).fit(X_train, y_train)\n",
    "print('Best features:', pipe.steps[0][1].k_feature_idx_)"
   ]
  },
  {
   "cell_type": "markdown",
   "metadata": {},
   "source": [
    "# Example 9 -- Selecting the \"best\" feature combination in a k-range"
   ]
  },
  {
   "cell_type": "code",
   "execution_count": 42,
   "metadata": {
    "tags": []
   },
   "outputs": [
    {
     "output_type": "stream",
     "name": "stdout",
     "text": "best combination (ACC: 0.992): (0, 1, 2, 3, 6, 8, 9, 10, 11, 12)\n\nall subsets:\n {1: {&#39;feature_idx&#39;: (6,), &#39;cv_scores&#39;: array([0.84 , 0.64 , 0.84 , 0.76 , 0.875]), &#39;avg_score&#39;: 0.791, &#39;feature_names&#39;: (&#39;6&#39;,)}, 2: {&#39;feature_idx&#39;: (6, 9), &#39;cv_scores&#39;: array([0.92      , 0.88      , 1.        , 0.96      , 0.91666667]), &#39;avg_score&#39;: 0.9353333333333333, &#39;feature_names&#39;: (&#39;6&#39;, &#39;9&#39;)}, 3: {&#39;feature_idx&#39;: (6, 9, 12), &#39;cv_scores&#39;: array([0.92      , 0.92      , 0.96      , 1.        , 0.95833333]), &#39;avg_score&#39;: 0.9516666666666665, &#39;feature_names&#39;: (&#39;6&#39;, &#39;9&#39;, &#39;12&#39;)}, 4: {&#39;feature_idx&#39;: (3, 6, 9, 12), &#39;cv_scores&#39;: array([0.96      , 0.96      , 0.96      , 1.        , 0.95833333]), &#39;avg_score&#39;: 0.9676666666666666, &#39;feature_names&#39;: (&#39;3&#39;, &#39;6&#39;, &#39;9&#39;, &#39;12&#39;)}, 5: {&#39;feature_idx&#39;: (3, 6, 9, 10, 12), &#39;cv_scores&#39;: array([0.92, 0.96, 1.  , 1.  , 1.  ]), &#39;avg_score&#39;: 0.976, &#39;feature_names&#39;: (&#39;3&#39;, &#39;6&#39;, &#39;9&#39;, &#39;10&#39;, &#39;12&#39;)}, 6: {&#39;feature_idx&#39;: (2, 3, 6, 9, 10, 12), &#39;cv_scores&#39;: array([0.92, 0.96, 1.  , 0.96, 1.  ]), &#39;avg_score&#39;: 0.968, &#39;feature_names&#39;: (&#39;2&#39;, &#39;3&#39;, &#39;6&#39;, &#39;9&#39;, &#39;10&#39;, &#39;12&#39;)}, 7: {&#39;feature_idx&#39;: (0, 2, 3, 6, 9, 10, 12), &#39;cv_scores&#39;: array([0.92, 0.92, 1.  , 1.  , 1.  ]), &#39;avg_score&#39;: 0.968, &#39;feature_names&#39;: (&#39;0&#39;, &#39;2&#39;, &#39;3&#39;, &#39;6&#39;, &#39;9&#39;, &#39;10&#39;, &#39;12&#39;)}, 8: {&#39;feature_idx&#39;: (0, 2, 3, 6, 8, 9, 10, 12), &#39;cv_scores&#39;: array([1.  , 0.92, 1.  , 1.  , 1.  ]), &#39;avg_score&#39;: 0.984, &#39;feature_names&#39;: (&#39;0&#39;, &#39;2&#39;, &#39;3&#39;, &#39;6&#39;, &#39;8&#39;, &#39;9&#39;, &#39;10&#39;, &#39;12&#39;)}, 9: {&#39;feature_idx&#39;: (0, 2, 3, 6, 8, 9, 10, 11, 12), &#39;cv_scores&#39;: array([1.  , 0.92, 1.  , 1.  , 1.  ]), &#39;avg_score&#39;: 0.984, &#39;feature_names&#39;: (&#39;0&#39;, &#39;2&#39;, &#39;3&#39;, &#39;6&#39;, &#39;8&#39;, &#39;9&#39;, &#39;10&#39;, &#39;11&#39;, &#39;12&#39;)}, 10: {&#39;feature_idx&#39;: (0, 1, 2, 3, 6, 8, 9, 10, 11, 12), &#39;cv_scores&#39;: array([1.  , 0.96, 1.  , 1.  , 1.  ]), &#39;avg_score&#39;: 0.992, &#39;feature_names&#39;: (&#39;0&#39;, &#39;1&#39;, &#39;2&#39;, &#39;3&#39;, &#39;6&#39;, &#39;8&#39;, &#39;9&#39;, &#39;10&#39;, &#39;11&#39;, &#39;12&#39;)}}\n"
    },
    {
     "output_type": "display_data",
     "data": {
      "text/plain": "&lt;Figure size 432x288 with 1 Axes&gt;",
      "image/png": "[encoded data removed]"
     },
     "metadata": {
      "needs_background": "light"
     }
    }
   ],
   "source": [
    "from mlxtend.feature_selection import SequentialFeatureSelector as SFS\n",
    "from sklearn.neighbors import KNeighborsClassifier\n",
    "from mlxtend.data import wine_data\n",
    "from sklearn.model_selection import train_test_split\n",
    "from sklearn.preprocessing import StandardScaler\n",
    "from sklearn.pipeline import make_pipeline\n",
    "\n",
    "X, y = wine_data()\n",
    "X_train, X_test, y_train, y_test= train_test_split(X, y, \n",
    "                                                   stratify=y,\n",
    "                                                   test_size=0.3,\n",
    "                                                   random_state=1)\n",
    "\n",
    "knn = KNeighborsClassifier(n_neighbors=2)\n",
    "\n",
    "sfs1 = SFS(estimator=knn, \n",
    "           k_features=(3, 10),\n",
    "           forward=True, \n",
    "           floating=False, \n",
    "           scoring='accuracy',\n",
    "           cv=5)\n",
    "\n",
    "pipe = make_pipeline(StandardScaler(), sfs1)\n",
    "\n",
    "pipe.fit(X_train, y_train)\n",
    "\n",
    "print('best combination (ACC: %.3f): %s\\n' % (sfs1.k_score_, sfs1.k_feature_idx_))\n",
    "print('all subsets:\\n', sfs1.subsets_)\n",
    "plot_sfs(sfs1.get_metric_dict(), kind='std_err');"
   ]
  },
  {
   "cell_type": "markdown",
   "metadata": {},
   "source": [
    "# Example 10 -- Using other cross-validation schemes"
   ]
  },
  {
   "cell_type": "code",
   "execution_count": 50,
   "metadata": {
    "tags": []
   },
   "outputs": [
    {
     "output_type": "stream",
     "name": "stdout",
     "text": "groups: [ 0  0  0  0  0  0  0  0  0  0  1  1  1  1  1  1  1  1  1  1  2  2  2  2\n  2  2  2  2  2  2  3  3  3  3  3  3  3  3  3  3  4  4  4  4  4  4  4  4\n  4  4  5  5  5  5  5  5  5  5  5  5  6  6  6  6  6  6  6  6  6  6  7  7\n  7  7  7  7  7  7  7  7  8  8  8  8  8  8  8  8  8  8  9  9  9  9  9  9\n  9  9  9  9 10 10 10 10 10 10 10 10 10 10 11 11 11 11 11 11 11 11 11 11\n 12 12 12 12 12 12 12 12 12 12 13 13 13 13 13 13 13 13 13 13 14 14 14 14\n 14 14 14 14 14 14]\n"
    }
   ],
   "source": [
    "# Using GroupKFold with SequentialFeatureSelector\n",
    "from mlxtend.feature_selection import SequentialFeatureSelector as SFS\n",
    "from sklearn.neighbors import KNeighborsClassifier\n",
    "from mlxtend.data import iris_data\n",
    "from sklearn.model_selection import GroupKFold\n",
    "import numpy as np\n",
    "\n",
    "X, y = iris_data()\n",
    "groups = np.arange(len(y)) // 10\n",
    "print('groups: {}'.format(groups))"
   ]
  },
  {
   "cell_type": "code",
   "execution_count": 51,
   "metadata": {},
   "outputs": [
    {
     "output_type": "execute_result",
     "data": {
      "text/plain": "&lt;generator object _BaseKFold.split at 0x0000018B5150B750&gt;"
     },
     "metadata": {},
     "execution_count": 51
    }
   ],
   "source": [
    "cv_gen = GroupKFold(4).split(X, y, groups)\n",
    "cv_gen"
   ]
  },
  {
   "cell_type": "code",
   "execution_count": 52,
   "metadata": {},
   "outputs": [],
   "source": [
    "cv = list(cv_gen)"
   ]
  },
  {
   "cell_type": "code",
   "execution_count": 53,
   "metadata": {
    "tags": []
   },
   "outputs": [
    {
     "output_type": "stream",
     "name": "stdout",
     "text": "best combination (ACC: 0.940): (2, 3)\n\n"
    }
   ],
   "source": [
    "knn = KNeighborsClassifier(n_neighbors=2)\n",
    "sfs = SFS(estimator=knn, \n",
    "          k_features=2,\n",
    "          scoring='accuracy',\n",
    "          cv=cv)\n",
    "\n",
    "sfs.fit(X, y)\n",
    "\n",
    "print('best combination (ACC: %.3f): %s\\n' % (sfs.k_score_, sfs.k_feature_idx_))"
   ]
  },
  {
   "cell_type": "markdown",
   "metadata": {},
   "source": [
    "# Example 11 - Working with pandas DataFrames\n",
    "# Example 12 - Using Pandas DataFrames"
   ]
  },
  {
   "cell_type": "code",
   "execution_count": 54,
   "metadata": {},
   "outputs": [],
   "source": [
    "import pandas as pd\n",
    "from sklearn.neighbors import KNeighborsClassifier\n",
    "from sklearn.datasets import load_iris\n",
    "from mlxtend.feature_selection import SequentialFeatureSelector as SFS\n",
    "\n",
    "iris = load_iris()\n",
    "X = iris.data\n",
    "y = iris.target\n",
    "knn = KNeighborsClassifier(n_neighbors=4)\n",
    "\n",
    "sfs1 = SFS(knn, \n",
    "           k_features=3, \n",
    "           forward=True, \n",
    "           floating=False, \n",
    "           scoring='accuracy',\n",
    "           cv=0)"
   ]
  },
  {
   "cell_type": "code",
   "execution_count": 55,
   "metadata": {},
   "outputs": [
    {
     "output_type": "execute_result",
     "data": {
      "text/plain": "   sepal len  petal len  sepal width  petal width\n0        5.1        3.5          1.4          0.2\n1        4.9        3.0          1.4          0.2\n2        4.7        3.2          1.3          0.2\n3        4.6        3.1          1.5          0.2\n4        5.0        3.6          1.4          0.2",
      "text/html": "<div>\n<style scoped>\n    .dataframe tbody tr th:only-of-type {\n        vertical-align: middle;\n    }\n\n    .dataframe tbody tr th {\n        vertical-align: top;\n    }\n\n    .dataframe thead th {\n        text-align: right;\n    }\n</style>\n<table border=\"1\" class=\"dataframe\">\n  <thead>\n    <tr style=\"text-align: right;\">\n      <th></th>\n      <th>sepal len</th>\n      <th>petal len</th>\n      <th>sepal width</th>\n      <th>petal width</th>\n    </tr>\n  </thead>\n  <tbody>\n    <tr>\n      <th>0</th>\n      <td>5.1</td>\n      <td>3.5</td>\n      <td>1.4</td>\n      <td>0.2</td>\n    </tr>\n    <tr>\n      <th>1</th>\n      <td>4.9</td>\n      <td>3.0</td>\n      <td>1.4</td>\n      <td>0.2</td>\n    </tr>\n    <tr>\n      <th>2</th>\n      <td>4.7</td>\n      <td>3.2</td>\n      <td>1.3</td>\n      <td>0.2</td>\n    </tr>\n    <tr>\n      <th>3</th>\n      <td>4.6</td>\n      <td>3.1</td>\n      <td>1.5</td>\n      <td>0.2</td>\n    </tr>\n    <tr>\n      <th>4</th>\n      <td>5.0</td>\n      <td>3.6</td>\n      <td>1.4</td>\n      <td>0.2</td>\n    </tr>\n  </tbody>\n</table>\n</div>"
     },
     "metadata": {},
     "execution_count": 55
    }
   ],
   "source": [
    "X_df = pd.DataFrame(X, columns=['sepal len', 'petal len',\n",
    "                                'sepal width', 'petal width'])\n",
    "X_df.head()"
   ]
  },
  {
   "cell_type": "code",
   "execution_count": 56,
   "metadata": {},
   "outputs": [
    {
     "output_type": "execute_result",
     "data": {
      "text/plain": "0    0\n1    0\n2    0\n3    0\n4    0\ndtype: int32"
     },
     "metadata": {},
     "execution_count": 56
    }
   ],
   "source": [
    "y_series = pd.Series(y)\n",
    "y_series.head()"
   ]
  },
  {
   "cell_type": "code",
   "execution_count": 58,
   "metadata": {},
   "outputs": [
    {
     "output_type": "execute_result",
     "data": {
      "text/plain": "{1: {&#39;feature_idx&#39;: (3,),\n  &#39;cv_scores&#39;: array([0.96]),\n  &#39;avg_score&#39;: 0.96,\n  &#39;feature_names&#39;: (&#39;petal width&#39;,)},\n 2: {&#39;feature_idx&#39;: (2, 3),\n  &#39;cv_scores&#39;: array([0.97333333]),\n  &#39;avg_score&#39;: 0.9733333333333334,\n  &#39;feature_names&#39;: (&#39;sepal width&#39;, &#39;petal width&#39;)},\n 3: {&#39;feature_idx&#39;: (1, 2, 3),\n  &#39;cv_scores&#39;: array([0.97333333]),\n  &#39;avg_score&#39;: 0.9733333333333334,\n  &#39;feature_names&#39;: (&#39;petal len&#39;, &#39;sepal width&#39;, &#39;petal width&#39;)}}"
     },
     "metadata": {},
     "execution_count": 58
    }
   ],
   "source": [
    "sfs1 = sfs1.fit(X_df, y_series)\n",
    "sfs1.subsets_"
   ]
  },
  {
   "cell_type": "markdown",
   "metadata": {},
   "source": [
    "# Example 13 - Specifying Fixed Feature Sets"
   ]
  },
  {
   "cell_type": "code",
   "execution_count": 59,
   "metadata": {
    "tags": []
   },
   "outputs": [
    {
     "output_type": "stream",
     "name": "stderr",
     "text": "[Parallel(n_jobs=1)]: Using backend SequentialBackend with 1 concurrent workers.\n[Parallel(n_jobs=1)]: Done   1 out of   1 | elapsed:    0.0s remaining:    0.0s\n[Parallel(n_jobs=1)]: Done   2 out of   2 | elapsed:    0.0s finished\n\n[2020-10-01 11:26:29] Features: 3/4 -- score: 0.9733333333333333[Parallel(n_jobs=1)]: Using backend SequentialBackend with 1 concurrent workers.\n[Parallel(n_jobs=1)]: Done   1 out of   1 | elapsed:    0.0s remaining:    0.0s\n[Parallel(n_jobs=1)]: Done   1 out of   1 | elapsed:    0.0s finished\n\n[2020-10-01 11:26:29] Features: 4/4 -- score: 0.9733333333333333"
    }
   ],
   "source": [
    "from sklearn.neighbors import KNeighborsClassifier\n",
    "from sklearn.datasets import load_iris\n",
    "\n",
    "iris = load_iris()\n",
    "X = iris.data\n",
    "y = iris.target\n",
    "knn = KNeighborsClassifier(n_neighbors=3)\n",
    "\n",
    "from mlxtend.feature_selection import SequentialFeatureSelector as SFS\n",
    "\n",
    "sfs1 = SFS(knn, \n",
    "           k_features=4, \n",
    "           forward=True, \n",
    "           floating=False, \n",
    "           verbose=2,\n",
    "           scoring='accuracy',\n",
    "           fixed_features=(0, 2),\n",
    "           cv=3)\n",
    "\n",
    "sfs1 = sfs1.fit(X, y)"
   ]
  },
  {
   "cell_type": "code",
   "execution_count": 60,
   "metadata": {},
   "outputs": [
    {
     "output_type": "execute_result",
     "data": {
      "text/plain": "{2: {&#39;feature_idx&#39;: (0, 2),\n  &#39;cv_scores&#39;: array([0.96, 0.92, 0.94]),\n  &#39;avg_score&#39;: 0.94,\n  &#39;feature_names&#39;: (&#39;0&#39;, &#39;2&#39;)},\n 3: {&#39;feature_idx&#39;: (0, 2, 3),\n  &#39;cv_scores&#39;: array([0.98, 0.96, 0.98]),\n  &#39;avg_score&#39;: 0.9733333333333333,\n  &#39;feature_names&#39;: (&#39;0&#39;, &#39;2&#39;, &#39;3&#39;)},\n 4: {&#39;feature_idx&#39;: (0, 1, 2, 3),\n  &#39;cv_scores&#39;: array([0.98, 0.96, 0.98]),\n  &#39;avg_score&#39;: 0.9733333333333333,\n  &#39;feature_names&#39;: (&#39;0&#39;, &#39;1&#39;, &#39;2&#39;, &#39;3&#39;)}}"
     },
     "metadata": {},
     "execution_count": 60
    }
   ],
   "source": [
    "sfs1.subsets_"
   ]
  },
  {
   "cell_type": "code",
   "execution_count": 61,
   "metadata": {},
   "outputs": [
    {
     "output_type": "execute_result",
     "data": {
      "text/plain": "   sepal len  petal len  sepal width  petal width\n0        5.1        3.5          1.4          0.2\n1        4.9        3.0          1.4          0.2\n2        4.7        3.2          1.3          0.2\n3        4.6        3.1          1.5          0.2\n4        5.0        3.6          1.4          0.2",
      "text/html": "<div>\n<style scoped>\n    .dataframe tbody tr th:only-of-type {\n        vertical-align: middle;\n    }\n\n    .dataframe tbody tr th {\n        vertical-align: top;\n    }\n\n    .dataframe thead th {\n        text-align: right;\n    }\n</style>\n<table border=\"1\" class=\"dataframe\">\n  <thead>\n    <tr style=\"text-align: right;\">\n      <th></th>\n      <th>sepal len</th>\n      <th>petal len</th>\n      <th>sepal width</th>\n      <th>petal width</th>\n    </tr>\n  </thead>\n  <tbody>\n    <tr>\n      <th>0</th>\n      <td>5.1</td>\n      <td>3.5</td>\n      <td>1.4</td>\n      <td>0.2</td>\n    </tr>\n    <tr>\n      <th>1</th>\n      <td>4.9</td>\n      <td>3.0</td>\n      <td>1.4</td>\n      <td>0.2</td>\n    </tr>\n    <tr>\n      <th>2</th>\n      <td>4.7</td>\n      <td>3.2</td>\n      <td>1.3</td>\n      <td>0.2</td>\n    </tr>\n    <tr>\n      <th>3</th>\n      <td>4.6</td>\n      <td>3.1</td>\n      <td>1.5</td>\n      <td>0.2</td>\n    </tr>\n    <tr>\n      <th>4</th>\n      <td>5.0</td>\n      <td>3.6</td>\n      <td>1.4</td>\n      <td>0.2</td>\n    </tr>\n  </tbody>\n</table>\n</div>"
     },
     "metadata": {},
     "execution_count": 61
    }
   ],
   "source": [
    "import pandas as pd\n",
    "X_df = pd.DataFrame(X, columns=['sepal len', 'petal len',\n",
    "                                'sepal width', 'petal width'])\n",
    "X_df.head()"
   ]
  },
  {
   "cell_type": "code",
   "execution_count": 62,
   "metadata": {
    "tags": []
   },
   "outputs": [
    {
     "output_type": "stream",
     "name": "stderr",
     "text": "[Parallel(n_jobs=1)]: Using backend SequentialBackend with 1 concurrent workers.\n[Parallel(n_jobs=1)]: Done   1 out of   1 | elapsed:    0.0s remaining:    0.0s\n[Parallel(n_jobs=1)]: Done   2 out of   2 | elapsed:    0.0s finished\n\n[2020-10-01 11:27:23] Features: 3/4 -- score: 0.9466666666666667[Parallel(n_jobs=1)]: Using backend SequentialBackend with 1 concurrent workers.\n[Parallel(n_jobs=1)]: Done   1 out of   1 | elapsed:    0.0s remaining:    0.0s\n[Parallel(n_jobs=1)]: Done   1 out of   1 | elapsed:    0.0s finished\n\n[2020-10-01 11:27:23] Features: 4/4 -- score: 0.9733333333333333"
    }
   ],
   "source": [
    "sfs2 = SFS(knn, \n",
    "           k_features=4, \n",
    "           forward=True, \n",
    "           floating=False, \n",
    "           verbose=2,\n",
    "           scoring='accuracy',\n",
    "           fixed_features=('sepal len', 'petal len'),\n",
    "           cv=3)\n",
    "\n",
    "sfs2 = sfs2.fit(X_df, y)"
   ]
  },
  {
   "cell_type": "code",
   "execution_count": 63,
   "metadata": {},
   "outputs": [
    {
     "output_type": "execute_result",
     "data": {
      "text/plain": "{2: {&#39;feature_idx&#39;: (0, 1),\n  &#39;cv_scores&#39;: array([0.74, 0.72, 0.78]),\n  &#39;avg_score&#39;: 0.7466666666666667,\n  &#39;feature_names&#39;: (&#39;sepal len&#39;, &#39;petal len&#39;)},\n 3: {&#39;feature_idx&#39;: (0, 1, 2),\n  &#39;cv_scores&#39;: array([0.98, 0.92, 0.94]),\n  &#39;avg_score&#39;: 0.9466666666666667,\n  &#39;feature_names&#39;: (&#39;sepal len&#39;, &#39;petal len&#39;, &#39;sepal width&#39;)},\n 4: {&#39;feature_idx&#39;: (0, 1, 2, 3),\n  &#39;cv_scores&#39;: array([0.98, 0.96, 0.98]),\n  &#39;avg_score&#39;: 0.9733333333333333,\n  &#39;feature_names&#39;: (&#39;sepal len&#39;, &#39;petal len&#39;, &#39;sepal width&#39;, &#39;petal width&#39;)}}"
     },
     "metadata": {},
     "execution_count": 63
    }
   ],
   "source": [
    "sfs2.subsets_"
   ]
  },
  {
   "cell_type": "code",
   "execution_count": null,
   "metadata": {},
   "outputs": [],
   "source": []
  }
 ]
}